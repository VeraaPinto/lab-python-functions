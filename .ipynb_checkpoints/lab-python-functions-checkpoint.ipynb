{
 "cells": [
  {
   "cell_type": "markdown",
   "id": "25d7736c-ba17-4aff-b6bb-66eba20fbf4e",
   "metadata": {},
   "source": [
    "# Lab | Functions"
   ]
  },
  {
   "cell_type": "markdown",
   "id": "0c581062-8967-4d93-b06e-62833222f930",
   "metadata": {
    "tags": []
   },
   "source": [
    "## Exercise: Managing Customer Orders with Functions\n",
    "\n",
    "In the previous exercise, you improved the code for managing customer orders by using loops and flow control. Now, let's take it a step further and refactor the code by introducing functions.\n",
    "\n",
    "Follow the steps below to complete the exercise:\n",
    "\n",
    "1. Define a function named `initialize_inventory` that takes `products` as a parameter. Inside the function, implement the code for initializing the inventory dictionary using a loop and user input.\n",
    "\n",
    "2. Define a function named `get_customer_orders` that takes no parameters. Inside the function, implement the code for prompting the user to enter the product names using a loop. The function should return the `customer_orders` set.\n",
    "\n",
    "3. Define a function named `update_inventory` that takes `customer_orders` and `inventory` as parameters. Inside the function, implement the code for updating the inventory dictionary based on the customer orders.\n",
    "\n",
    "4. Define a function named `calculate_order_statistics` that takes `customer_orders` and `products` as parameters. Inside the function, implement the code for calculating the order statistics (total products ordered, and percentage of unique products ordered). The function should return these values.\n",
    "\n",
    "5. Define a function named `print_order_statistics` that takes `order_statistics` as a parameter. Inside the function, implement the code for printing the order statistics.\n",
    "\n",
    "6. Define a function named `print_updated_inventory` that takes `inventory` as a parameter. Inside the function, implement the code for printing the updated inventory.\n",
    "\n",
    "7. Call the functions in the appropriate sequence to execute the program and manage customer orders.\n",
    "\n",
    "Hints for functions:\n",
    "\n",
    "- Consider the input parameters required for each function and their return values.\n",
    "- Utilize function parameters and return values to transfer data between functions.\n",
    "- Test your functions individually to ensure they work correctly.\n",
    "\n",
    "\n"
   ]
  },
  {
   "cell_type": "code",
   "execution_count": 157,
   "id": "0af671d8-940f-4db4-ac64-36f14ea94d11",
   "metadata": {},
   "outputs": [
    {
     "name": "stdin",
     "output_type": "stream",
     "text": [
      "Enter the inventory for t-shirt: 5\n",
      "Enter the inventory for mug: 5\n",
      "Enter the inventory for hat: 4\n",
      "Enter the inventory for book: 3\n",
      "Enter the inventory for keychain: 2\n"
     ]
    },
    {
     "name": "stdout",
     "output_type": "stream",
     "text": [
      "{'t-shirt': 5, 'mug': 5, 'hat': 4, 'book': 3, 'keychain': 2}\n"
     ]
    }
   ],
   "source": [
    "inventory={}\n",
    "def initialize_inventory(products):\n",
    "    for item in products:\n",
    "        inventory[item]=int(input(f\"Enter the inventory for {item}:\"))\n",
    "    return inventory\n",
    "\n",
    "products = [\"t-shirt\",\"mug\",\"hat\",\"book\", \"keychain\"]\n",
    "inventory = initialize_inventory(products)\n",
    "print (inventory)"
   ]
  },
  {
   "cell_type": "code",
   "execution_count": 159,
   "id": "4eb6c702-2070-4c9b-85ab-8197a51e84a1",
   "metadata": {},
   "outputs": [
    {
     "name": "stdout",
     "output_type": "stream",
     "text": [
      "We have the following products available: ['t-shirt', 'mug', 'hat', 'book', 'keychain']\n"
     ]
    },
    {
     "name": "stdin",
     "output_type": "stream",
     "text": [
      "Enter the name of product you want to order:  t-shirt\n",
      "Do you want to continue ordering (yes/no): yes\n"
     ]
    },
    {
     "name": "stdout",
     "output_type": "stream",
     "text": [
      "t-shirt has been added to your order.\n"
     ]
    },
    {
     "name": "stdin",
     "output_type": "stream",
     "text": [
      "Enter the name of product you want to order:  hat\n",
      "Do you want to continue ordering (yes/no): yes\n"
     ]
    },
    {
     "name": "stdout",
     "output_type": "stream",
     "text": [
      "hat has been added to your order.\n"
     ]
    },
    {
     "name": "stdin",
     "output_type": "stream",
     "text": [
      "Enter the name of product you want to order:  book\n",
      "Do you want to continue ordering (yes/no): no\n"
     ]
    },
    {
     "name": "stdout",
     "output_type": "stream",
     "text": [
      "book has been added to your order.\n",
      "Customer Orders: {'hat', 't-shirt', 'book'}\n"
     ]
    }
   ],
   "source": [
    "customer_orders=set()\n",
    "\n",
    "print(\"We have the following products available:\", products)\n",
    "def get_customer_orders():\n",
    "    another_product = \"yes\"\n",
    "    while another_product ==\"yes\":\n",
    "        product = input(f\"Enter the name of product you want to order: \")\n",
    "        another_product = input(f\"Do you want to continue ordering (yes/no):\")\n",
    "        if product in products:\n",
    "            customer_orders.add(product)\n",
    "            print(f\"{product} has been added to your order.\")\n",
    "        else:\n",
    "            print(\"Invalid product name. Please choose from the available products.\")\n",
    "    return customer_orders\n",
    "            \n",
    "\n",
    "orders= get_customer_orders()\n",
    "print(\"Customer Orders:\", orders)\n"
   ]
  },
  {
   "cell_type": "code",
   "execution_count": 161,
   "id": "aa07af64-29a2-4401-8cc8-3a7efeec9506",
   "metadata": {},
   "outputs": [
    {
     "name": "stdout",
     "output_type": "stream",
     "text": [
      "{'t-shirt': 4, 'mug': 5, 'hat': 3, 'book': 2, 'keychain': 2}\n"
     ]
    }
   ],
   "source": [
    "def update_inventory (customer_orders,inventory):\n",
    "    for item in customer_orders:\n",
    "        if item in inventory:\n",
    "            inventory[item]-=1\n",
    "    return inventory\n",
    "\n",
    "updated_inventory=update_inventory(customer_orders,inventory)\n",
    "print(updated_inventory)"
   ]
  },
  {
   "cell_type": "code",
   "execution_count": 163,
   "id": "c307c414-4dbe-488f-add6-18951c1a2c62",
   "metadata": {},
   "outputs": [
    {
     "name": "stdout",
     "output_type": "stream",
     "text": [
      "Total products ordered: 3\n",
      "Percentage of unique products ordered: 60.0 %\n"
     ]
    }
   ],
   "source": [
    "def calculate_order_statistics(customer_orders,products):\n",
    "    total_products_ordered = len(customer_orders)\n",
    "    total_unique_products = len(products)\n",
    "    percentage_unique_products_ordered = total_products_ordered/total_unique_products*100\n",
    "    return total_products_ordered,percentage_unique_products_ordered\n",
    "\n",
    "total_products_ordered, percentage_unique_products_ordered = calculate_order_statistics(customer_orders,products)\n",
    "print(\"Total products ordered:\", total_products_ordered)\n",
    "print(\"Percentage of unique products ordered:\", percentage_unique_products_ordered,\"%\")    \n",
    " "
   ]
  },
  {
   "cell_type": "code",
   "execution_count": 165,
   "id": "b65cdb66-1e47-41bf-91e3-3cd8e4b3a1a6",
   "metadata": {},
   "outputs": [
    {
     "name": "stdout",
     "output_type": "stream",
     "text": [
      "Total products ordered: 3\n",
      "Percentage of unique products ordered: 60.0 %\n"
     ]
    }
   ],
   "source": [
    "def print_order_statistics(order_statistics):\n",
    "    total_products_ordered, percentage_unique_products_ordered = order_statistics\n",
    "\n",
    "print(\"Total products ordered:\", total_products_ordered)\n",
    "print(\"Percentage of unique products ordered:\", percentage_unique_products_ordered,\"%\")    \n"
   ]
  },
  {
   "cell_type": "code",
   "execution_count": 167,
   "id": "fed755c4-2b19-4975-9f5d-6eeb8fc19324",
   "metadata": {},
   "outputs": [
    {
     "name": "stdout",
     "output_type": "stream",
     "text": [
      "Updated Inventory: {'t-shirt': 4, 'mug': 5, 'hat': 3, 'book': 2, 'keychain': 2}\n"
     ]
    }
   ],
   "source": [
    "def print_updated_inventory(inventory):\n",
    "    print_updated_inventory=updated_inventoty\n",
    "    \n",
    "print(\"Updated Inventory:\",updated_inventory)\n",
    "    "
   ]
  },
  {
   "cell_type": "code",
   "execution_count": null,
   "id": "238a665e-a6dc-423d-bdc2-0fef833370e1",
   "metadata": {},
   "outputs": [],
   "source": []
  }
 ],
 "metadata": {
  "kernelspec": {
   "display_name": "Python [conda env:base] *",
   "language": "python",
   "name": "conda-base-py"
  },
  "language_info": {
   "codemirror_mode": {
    "name": "ipython",
    "version": 3
   },
   "file_extension": ".py",
   "mimetype": "text/x-python",
   "name": "python",
   "nbconvert_exporter": "python",
   "pygments_lexer": "ipython3",
   "version": "3.12.7"
  }
 },
 "nbformat": 4,
 "nbformat_minor": 5
}
